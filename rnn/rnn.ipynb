{
 "cells": [
  {
   "cell_type": "markdown",
   "metadata": {},
   "source": [
    "# Recurrent Neural Networks (RNN)\n",
    "\n",
    "Let's try a simple RNN model."
   ]
  },
  {
   "cell_type": "markdown",
   "metadata": {},
   "source": [
    "First, we import the necessary libraries, including the code we have written for the RNN model."
   ]
  },
  {
   "cell_type": "code",
   "execution_count": 1,
   "metadata": {},
   "outputs": [],
   "source": [
    "import json\n",
    "import numpy as np\n",
    "from rnn import load_data, train_rnn, evaluate_rnn"
   ]
  },
  {
   "cell_type": "markdown",
   "metadata": {},
   "source": [
    "Then, we load the data."
   ]
  },
  {
   "cell_type": "code",
   "execution_count": 2,
   "metadata": {},
   "outputs": [
    {
     "name": "stdout",
     "output_type": "stream",
     "text": [
      "train_data: 8739\n",
      "devtest_mt_data: 1476\n",
      "devtest_rw_data: 1146\n",
      "train_data[0]: {'gid': 'allsides_1000_401_25_Reality Leigh Winner_0_6', 'sentence_normalized': 'Winner wrote 30minute private meeting Republican lawmakers state policy director', 'polarity': 4.0}\n",
      "devtest_mt_data[0]: {'gid': 'allsides_1002_402_12_former FBI director James B. Comey_51_56', 'sentence_normalized': 'While White House officials said days Comeys dismissal largely result memo written Deputy Attorney General Rod J Rosenstein criticizing FBI directors handling investigation Hillary Clintons use private email server secretary state Trump suggested NBC interview Russian investigation played role decision', 'polarity': 2.0}\n",
      "devtest_rw_data[0]: {'gid': 'allsides_703_283_55_Mr. Trump_124_133', 'sentence_normalized': 'A group congressional Democrats said Wednesday ask Congress take rare step officially censuring Mr Trump', 'polarity': 2.0}\n"
     ]
    }
   ],
   "source": [
    "with open('../data/NewsMTSC-dataset/train_preprocessed.jsonl', 'r') as f:\n",
    "    train_data = [json.loads(line) for line in f]\n",
    "\n",
    "with open('../data/NewsMTSC-dataset/devtest_mt_preprocessed.jsonl', 'r') as f:\n",
    "    devtest_mt_data = [json.loads(line) for line in f]\n",
    "\n",
    "with open('../data/NewsMTSC-dataset/devtest_rw_preprocessed.jsonl', 'r') as f:\n",
    "    devtest_rw_data = [json.loads(line) for line in f]\n",
    "\n",
    "print('train_data:', len(train_data))\n",
    "print('devtest_mt_data:', len(devtest_mt_data))\n",
    "print('devtest_rw_data:', len(devtest_rw_data))\n",
    "\n",
    "print('train_data[0]:', train_data[0])\n",
    "print('devtest_mt_data[0]:', devtest_mt_data[0])\n",
    "print('devtest_rw_data[0]:', devtest_rw_data[0])"
   ]
  },
  {
   "cell_type": "code",
   "execution_count": 3,
   "metadata": {},
   "outputs": [],
   "source": [
    "text_data, labels = load_data(train_data)\n",
    "text_data_mt, labels_mt = load_data(devtest_mt_data)\n",
    "text_data_rw, labels_rw = load_data(devtest_rw_data)"
   ]
  },
  {
   "cell_type": "markdown",
   "metadata": {},
   "source": [
    "Then we train a baseline model."
   ]
  },
  {
   "cell_type": "code",
   "execution_count": 4,
   "metadata": {},
   "outputs": [
    {
     "name": "stdout",
     "output_type": "stream",
     "text": [
      "Device: cuda\n",
      "Epoch 1, Loss: 1.0892314541078831\n",
      "Epoch 2, Loss: 1.0432761224516987\n",
      "Epoch 3, Loss: 0.7819230739217605\n",
      "Epoch 4, Loss: 0.5361267609426575\n",
      "Epoch 5, Loss: 0.38209393207174147\n",
      "Epoch 6, Loss: 0.28147954229999633\n",
      "Epoch 7, Loss: 0.21820341956115116\n",
      "Epoch 8, Loss: 0.17935917306908944\n",
      "Epoch 9, Loss: 0.15299380303829582\n",
      "Epoch 10, Loss: 0.1396568835569362\n",
      "Epoch 11, Loss: 0.1318356920931026\n",
      "Epoch 12, Loss: 0.1250429525066432\n",
      "Epoch 13, Loss: 0.12002167209343863\n",
      "Epoch 14, Loss: 0.11729268450459913\n",
      "Epoch 15, Loss: 0.11330839479342103\n",
      "Epoch 16, Loss: 0.11357964347388567\n",
      "Epoch 17, Loss: 0.11215607259918793\n",
      "Epoch 18, Loss: 0.112420269602529\n",
      "Epoch 19, Loss: 0.10781115853485998\n",
      "Epoch 20, Loss: 0.10476288812177215\n"
     ]
    },
    {
     "data": {
      "image/png": "[encoded data removed]",
      "text/plain": [
       "<Figure size 432x288 with 1 Axes>"
      ]
     },
     "metadata": {
      "needs_background": "light"
     },
     "output_type": "display_data"
    }
   ],
   "source": [
    "epochs = 20\n",
    "hidden_dim = 128\n",
    "num_layers = 3\n",
    "learning_rate = 0.0001\n",
    "model, vectorizer = train_rnn(text_data, labels, epochs, hidden_dim, num_layers, learning_rate)"
   ]
  },
  {
   "cell_type": "markdown",
   "metadata": {},
   "source": [
    "Finally, we evaluate the model on the test datasets."
   ]
  },
  {
   "cell_type": "code",
   "execution_count": 5,
   "metadata": {},
   "outputs": [
    {
     "name": "stdout",
     "output_type": "stream",
     "text": [
      "Train data classification report:\n",
      "Classification Report:\n",
      "{'0': {'precision': 0.9452824608104111, 'recall': 0.9638118214716526, 'f1-score': 0.9544572196505898, 'support': 3316}, '1': {'precision': 0.9323284156510584, 'recall': 0.9600396301188904, 'f1-score': 0.9459811259355678, 'support': 3028}, '2': {'precision': 0.9946428571428572, 'recall': 0.9302713987473904, 'f1-score': 0.9613807982740022, 'support': 2395}, 'accuracy': 0.9533127360109852, 'macro avg': {'precision': 0.9574179112014422, 'recall': 0.9513742834459777, 'f1-score': 0.9539397146200533, 'support': 8739}, 'weighted avg': {'precision': 0.9543216301059471, 'recall': 0.9533127360109852, 'f1-score': 0.9534177825335268, 'support': 8739}}\n",
      "Accuracy: 0.9533\n",
      "ROC-AUC: 0.9977\n",
      "Devtest MT data classification report:\n",
      "Classification Report:\n",
      "{'0': {'precision': 0.5207296849087893, 'recall': 0.6514522821576764, 'f1-score': 0.5788018433179724, 'support': 482}, '1': {'precision': 0.6616989567809239, 'recall': 0.5935828877005348, 'f1-score': 0.6257928118393234, 'support': 748}, '2': {'precision': 0.3910891089108911, 'recall': 0.32113821138211385, 'f1-score': 0.35267857142857145, 'support': 246}, 'accuracy': 0.5670731707317073, 'macro avg': {'precision': 0.5245059168668681, 'recall': 0.5220577937467751, 'f1-score': 0.5190910755286223, 'support': 1476}, 'weighted avg': {'precision': 0.5705626345462377, 'recall': 0.5670731707317073, 'f1-score': 0.5649284825924832, 'support': 1476}}\n",
      "Accuracy: 0.5671\n",
      "ROC-AUC: 0.7258\n",
      "Devtest RW data classification report:\n",
      "Classification Report:\n",
      "{'0': {'precision': 0.578125, 'recall': 0.6037296037296037, 'f1-score': 0.5906499429874573, 'support': 429}, '1': {'precision': 0.5265225933202358, 'recall': 0.589010989010989, 'f1-score': 0.5560165975103736, 'support': 455}, '2': {'precision': 0.4708994708994709, 'recall': 0.33969465648854963, 'f1-score': 0.3946784922394679, 'support': 262}, 'accuracy': 0.537521815008726, 'macro avg': {'precision': 0.5251823547399023, 'recall': 0.5108117497430474, 'f1-score': 0.5137816775790996, 'support': 1146}, 'weighted avg': {'precision': 0.5331230945343531, 'recall': 0.537521815008726, 'f1-score': 0.532096110275375, 'support': 1146}}\n",
      "Accuracy: 0.5375\n",
      "ROC-AUC: 0.7132\n"
     ]
    }
   ],
   "source": [
    "print(\"Train data classification report:\")\n",
    "accuracy, roc_auc, report = evaluate_rnn(model, vectorizer, text_data, labels)\n",
    "\n",
    "print(\"Devtest MT data classification report:\")\n",
    "accuracy_mt, roc_auc_mt, report_mt = evaluate_rnn(model, vectorizer, text_data_mt, labels_mt)\n",
    "\n",
    "print(\"Devtest RW data classification report:\")\n",
    "accuracy_rw, roc_auc_rw, report_rw = evaluate_rnn(model, vectorizer, text_data_rw, labels_rw)"
   ]
  },
  {
   "cell_type": "markdown",
   "metadata": {},
   "source": [
    "Let's what the report looks like."
   ]
  },
  {
   "cell_type": "code",
   "execution_count": 6,
   "metadata": {},
   "outputs": [
    {
     "data": {
      "text/plain": [
       "{'0': {'precision': 0.578125,\n",
       "  'recall': 0.6037296037296037,\n",
       "  'f1-score': 0.5906499429874573,\n",
       "  'support': 429},\n",
       " '1': {'precision': 0.5265225933202358,\n",
       "  'recall': 0.589010989010989,\n",
       "  'f1-score': 0.5560165975103736,\n",
       "  'support': 455},\n",
       " '2': {'precision': 0.4708994708994709,\n",
       "  'recall': 0.33969465648854963,\n",
       "  'f1-score': 0.3946784922394679,\n",
       "  'support': 262},\n",
       " 'accuracy': 0.537521815008726,\n",
       " 'macro avg': {'precision': 0.5251823547399023,\n",
       "  'recall': 0.5108117497430474,\n",
       "  'f1-score': 0.5137816775790996,\n",
       "  'support': 1146},\n",
       " 'weighted avg': {'precision': 0.5331230945343531,\n",
       "  'recall': 0.537521815008726,\n",
       "  'f1-score': 0.532096110275375,\n",
       "  'support': 1146}}"
      ]
     },
     "execution_count": 6,
     "metadata": {},
     "output_type": "execute_result"
    }
   ],
   "source": [
    "report_rw"
   ]
  },
  {
   "cell_type": "markdown",
   "metadata": {},
   "source": [
    "Okay, it includes all the results we want to see except for the ROC-AUC score. We can add that to this report so that we have all the results in one place. "
   ]
  },
  {
   "cell_type": "code",
   "execution_count": 7,
   "metadata": {},
   "outputs": [],
   "source": [
    "report['roc_auc'] = roc_auc\n",
    "report_mt['roc_auc'] = roc_auc_mt\n",
    "report_rw['roc_auc'] = roc_auc_rw"
   ]
  },
  {
   "cell_type": "markdown",
   "metadata": {},
   "source": [
    "Now, let's create a master dictionary that will have details about the model (type and hyperparameters), and the reported results from all three datasets splits."
   ]
  },
  {
   "cell_type": "code",
   "execution_count": 8,
   "metadata": {},
   "outputs": [],
   "source": [
    "result = dict()\n",
    "result['model'] = {'type': 'RNN', 'hidden_dim': hidden_dim, 'num_layers': num_layers, 'learning_rate': learning_rate}\n",
    "result['train'] = report\n",
    "result['devtest_mt'] = report_mt\n",
    "result['devtest_rw'] = report_rw"
   ]
  },
  {
   "cell_type": "markdown",
   "metadata": {},
   "source": [
    "We get 95.3% on the training dataset but 55.6% on the mt dataset and 54.0% on the rw dataset. There is a significant difference between the performance on the training dataset and the test datasets. This could be due to overfitting, or the model is not learning the right features. We can try to improve the model by tuning the hyperparameters (epochs, le), modifying the architecture, or changing the distribution of the datasets. For the sake of this project, we will try to improve models by tuning the hyperparameters."
   ]
  },
  {
   "cell_type": "markdown",
   "metadata": {},
   "source": [
    "## Hyperparameter tuning"
   ]
  },
  {
   "cell_type": "markdown",
   "metadata": {},
   "source": [
    "Let's try to tune the hyperparameters of the model to improve the performance. We will run experiments and compare the results.\n",
    "\n",
    "We will tune the following hyperparameters:\n",
    "- Learning rate\n",
    "- Number of epochs\n",
    "- Hidden units\n",
    "- Number of layers"
   ]
  },
  {
   "cell_type": "code",
   "execution_count": 11,
   "metadata": {},
   "outputs": [
    {
     "data": {
      "image/png": "[encoded data removed]",
      "text/plain": [
       "<Figure size 432x288 with 1 Axes>"
      ]
     },
     "metadata": {
      "needs_background": "light"
     },
     "output_type": "display_data"
    }
   ],
   "source": [
    "# Suppress output\n",
    "import contextlib\n",
    "import matplotlib\n",
    "matplotlib.use('Agg')\n",
    "with contextlib.redirect_stdout(open('/dev/null', 'w')):\n",
    "\n",
    "    epochs_list = [20, 30]\n",
    "    hidden_dim_list = [64, 128]\n",
    "    num_layers_list = [3, 4]\n",
    "    learning_rate_list = [0.0001, 0.001, 0.01]\n",
    "\n",
    "    results = []\n",
    "\n",
    "    for epochs in epochs_list:\n",
    "        for hidden_dim in hidden_dim_list:\n",
    "            for num_layers in num_layers_list:\n",
    "                for learning_rate in learning_rate_list:\n",
    "                    print(f\"Training with epochs={epochs}, hidden_dim={hidden_dim}, num_layers={num_layers}, learning_rate={learning_rate}\")\n",
    "                    model, vectorizer = train_rnn(text_data, labels, epochs, hidden_dim, num_layers, learning_rate)\n",
    "                    accuracy, roc_auc, report = evaluate_rnn(model, vectorizer, text_data, labels)\n",
    "                    accuracy_mt, roc_auc_mt, report_mt = evaluate_rnn(model, vectorizer, text_data_mt, labels_mt)\n",
    "                    accuracy_rw, roc_auc_rw, report_rw = evaluate_rnn(model, vectorizer, text_data_rw, labels_rw)\n",
    "                    report['roc_auc'] = roc_auc\n",
    "                    report_mt['roc_auc'] = roc_auc_mt\n",
    "                    report_rw['roc_auc'] = roc_auc_rw\n",
    "                    result = dict()\n",
    "                    result['model'] = {'type': 'RNN', 'hidden_dim': hidden_dim, 'num_layers': num_layers, 'learning_rate': learning_rate}\n",
    "                    result['train'] = report\n",
    "                    result['devtest_mt'] = report_mt\n",
    "                    result['devtest_rw'] = report_rw\n",
    "                    results.append(result)"
   ]
  },
  {
   "cell_type": "markdown",
   "metadata": {},
   "source": [
    "We will write the results of the experiments in a json file, where each entry looks like the following:\n",
    "    \n",
    "    ```json\n",
    "    {\n",
    "        \"model\": {\n",
    "            \"type\": [model_type],\n",
    "            \"hidden_dim\": [hidden_dim],\n",
    "            \"num_layers\": [n_layers],\n",
    "            \"learning_rate\": [lr],\n",
    "        },\n",
    "        \"train\": {\n",
    "            \"accuracy\": [train_acc],\n",
    "            \"roc_auc\": [train_roc_auc]\n",
    "            \"0\": {\n",
    "                \"precision\": [train_precision_0],\n",
    "                \"recall\": [train_recall_0],\n",
    "                \"f1\": [train_f1_0],\n",
    "                \"support\": [train_support_0]\n",
    "            },\n",
    "            \"1\": {\n",
    "                \"precision\": [train_precision_1],\n",
    "                \"recall\": [train_recall_1],\n",
    "                \"f1\": [train_f1_1],\n",
    "                \"support\": [train_support_1]\n",
    "            },\n",
    "            \"2\": {\n",
    "                \"precision\": [train_precision_2],\n",
    "                \"recall\": [train_recall_2],\n",
    "                \"f1\": [train_f1_2],\n",
    "                \"support\": [train_support_2]\n",
    "            }\n",
    "        },\n",
    "        \"devtest_mt\": {\n",
    "            \"accuracy\": [devtest_mt_acc],\n",
    "            \"roc_auc\": [devtest_mt_roc_auc]\n",
    "            \"0\": {\n",
    "                \"precision\": [devtest_mt_precision_0],\n",
    "                \"recall\": [devtest_mt_recall_0],\n",
    "                \"f1\": [devtest_mt_f1_0],\n",
    "                \"support\": [devtest_mt_support_0]\n",
    "            },\n",
    "            \"1\": {\n",
    "                \"precision\": [devtest_mt_precision_1],\n",
    "                \"recall\": [devtest_mt_recall_1],\n",
    "                \"f1\": [devtest_mt_f1_1],\n",
    "                \"support\": [devtest_mt_support_1]\n",
    "            },\n",
    "            \"2\": {\n",
    "                \"precision\": [devtest_mt_precision_2],\n",
    "                \"recall\": [devtest_mt_recall_2],\n",
    "                \"f1\": [devtest_mt_f1_2],\n",
    "                \"support\": [devtest_mt_support_2]\n",
    "            }\n",
    "        },\n",
    "        \"devtest_rw\": {\n",
    "            \"accuracy\": [devtest_rw_acc],\n",
    "            \"roc_auc\": [devtest_rw_roc_auc]\n",
    "            \"0\": {\n",
    "                \"precision\": [devtest_rw_precision_0],\n",
    "                \"recall\": [devtest_rw_recall_0],\n",
    "                \"f1\": [devtest_rw_f1_0],\n",
    "                \"support\": [devtest_rw_support_0]\n",
    "            },\n",
    "            \"1\": {\n",
    "                \"precision\": [devtest_rw_precision_1],\n",
    "                \"recall\": [devtest_rw_recall_1],\n",
    "                \"f1\": [devtest_rw_f1_1],\n",
    "                \"support\": [devtest_rw_support_1]\n",
    "            },\n",
    "            \"2\": {\n",
    "                \"precision\": [devtest_rw_precision_2],\n",
    "                \"recall\": [devtest_rw_recall_2],\n",
    "                \"f1\": [devtest_rw_f1_2],\n",
    "                \"support\": [devtest_rw_support_2]\n",
    "            }\n",
    "        }\n",
    "    }\n",
    "    ```"
   ]
  },
  {
   "cell_type": "code",
   "execution_count": 12,
   "metadata": {},
   "outputs": [],
   "source": [
    "with open('rnn_results.json', 'w') as f:\n",
    "    json.dump(results, f, indent=4)"
   ]
  }
 ],
 "metadata": {
  "kernelspec": {
   "display_name": "base",
   "language": "python",
   "name": "python3"
  },
  "language_info": {
   "codemirror_mode": {
    "name": "ipython",
    "version": 3
   },
   "file_extension": ".py",
   "mimetype": "text/x-python",
   "name": "python",
   "nbconvert_exporter": "python",
   "pygments_lexer": "ipython3",
   "version": "3.8.5"
  }
 },
 "nbformat": 4,
 "nbformat_minor": 2
}
