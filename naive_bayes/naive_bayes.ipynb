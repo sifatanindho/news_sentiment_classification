{
 "cells": [
  {
   "cell_type": "markdown",
   "metadata": {},
   "source": [
    "# Naive-Bayes Classifier\n",
    "\n",
    "Let's try using a Naive-Bayes Classifier on this data."
   ]
  },
  {
   "cell_type": "markdown",
   "metadata": {},
   "source": [
    "First, we import the necessary libraries."
   ]
  },
  {
   "cell_type": "code",
   "execution_count": 1,
   "metadata": {},
   "outputs": [],
   "source": [
    "import json\n",
    "import numpy as np\n",
    "from naive_bayes import load_data, train_naive_bayes, evaluate_naive_bayes"
   ]
  },
  {
   "cell_type": "markdown",
   "metadata": {},
   "source": [
    "Then we load the data."
   ]
  },
  {
   "cell_type": "code",
   "execution_count": 2,
   "metadata": {},
   "outputs": [
    {
     "name": "stdout",
     "output_type": "stream",
     "text": [
      "train_data: 8739\n",
      "devtest_mt_data: 1476\n",
      "devtest_rw_data: 1146\n",
      "train_data[0]: {'gid': 'allsides_1000_401_25_Reality Leigh Winner_0_6', 'sentence_normalized': 'Winner wrote 30minute private meeting Republican lawmakers state policy director', 'polarity': 4.0}\n",
      "devtest_mt_data[0]: {'gid': 'allsides_1002_402_12_former FBI director James B. Comey_51_56', 'sentence_normalized': 'While White House officials said days Comeys dismissal largely result memo written Deputy Attorney General Rod J Rosenstein criticizing FBI directors handling investigation Hillary Clintons use private email server secretary state Trump suggested NBC interview Russian investigation played role decision', 'polarity': 2.0}\n",
      "devtest_rw_data[0]: {'gid': 'allsides_703_283_55_Mr. Trump_124_133', 'sentence_normalized': 'A group congressional Democrats said Wednesday ask Congress take rare step officially censuring Mr Trump', 'polarity': 2.0}\n"
     ]
    }
   ],
   "source": [
    "with open('../data/NewsMTSC-dataset/train_preprocessed.jsonl', 'r') as f:\n",
    "    train_data = [json.loads(line) for line in f]\n",
    "\n",
    "with open('../data/NewsMTSC-dataset/devtest_mt_preprocessed.jsonl', 'r') as f:\n",
    "    devtest_mt_data = [json.loads(line) for line in f]\n",
    "\n",
    "with open('../data/NewsMTSC-dataset/devtest_rw_preprocessed.jsonl', 'r') as f:\n",
    "    devtest_rw_data = [json.loads(line) for line in f]\n",
    "\n",
    "print('train_data:', len(train_data))\n",
    "print('devtest_mt_data:', len(devtest_mt_data))\n",
    "print('devtest_rw_data:', len(devtest_rw_data))\n",
    "\n",
    "print('train_data[0]:', train_data[0])\n",
    "print('devtest_mt_data[0]:', devtest_mt_data[0])\n",
    "print('devtest_rw_data[0]:', devtest_rw_data[0])"
   ]
  },
  {
   "cell_type": "code",
   "execution_count": 3,
   "metadata": {},
   "outputs": [],
   "source": [
    "text_data, labels = load_data(train_data)\n",
    "text_data_mt, labels_mt = load_data(devtest_mt_data)\n",
    "text_data_rw, labels_rw = load_data(devtest_rw_data)"
   ]
  },
  {
   "cell_type": "markdown",
   "metadata": {},
   "source": [
    "Then we train a baseline model."
   ]
  },
  {
   "cell_type": "code",
   "execution_count": 4,
   "metadata": {},
   "outputs": [],
   "source": [
    "alpha = 1.0\n",
    "fit_prior = True\n",
    "clf, vectorizer = train_naive_bayes(text_data, labels, alpha, fit_prior)"
   ]
  },
  {
   "cell_type": "markdown",
   "metadata": {},
   "source": [
    "Finally, we evaluate the model on the test datasets."
   ]
  },
  {
   "cell_type": "code",
   "execution_count": 5,
   "metadata": {},
   "outputs": [
    {
     "name": "stdout",
     "output_type": "stream",
     "text": [
      "Train Classification Report:\n",
      "Classification Report:\n",
      "{'0': {'precision': 0.7788533134772897, 'recall': 0.9463208685162847, 'f1-score': 0.8544588155207624, 'support': 3316}, '1': {'precision': 0.8443976115208992, 'recall': 0.7939233817701453, 'f1-score': 0.8183829787234043, 'support': 3028}, '2': {'precision': 0.9312936124530328, 'recall': 0.7244258872651357, 'f1-score': 0.8149365899483325, 'support': 2395}, 'accuracy': 0.8327039707060304, 'macro avg': {'precision': 0.8515148458170739, 'recall': 0.8215567125171885, 'f1-score': 0.8292594613974997, 'support': 8739}, 'weighted avg': {'precision': 0.8433415444560006, 'recall': 0.8327039707060304, 'f1-score': 0.8311273858299086, 'support': 8739}}\n",
      "Accuracy: 0.8327\n",
      "ROC-AUC: 0.9581\n",
      "Devtest MT Classification Report:\n",
      "Classification Report:\n",
      "{'0': {'precision': 0.49407114624505927, 'recall': 0.7780082987551867, 'f1-score': 0.6043513295729251, 'support': 482}, '1': {'precision': 0.6998284734133791, 'recall': 0.5454545454545454, 'f1-score': 0.6130728775356874, 'support': 748}, '2': {'precision': 0.47761194029850745, 'recall': 0.2601626016260163, 'f1-score': 0.3368421052631579, 'support': 246}, 'accuracy': 0.5738482384823849, 'macro avg': {'precision': 0.5571705199856486, 'recall': 0.5278751486119161, 'f1-score': 0.5180887707905901, 'support': 1476}, 'weighted avg': {'precision': 0.5956006286698909, 'recall': 0.5738482384823849, 'f1-score': 0.5641863219143501, 'support': 1476}}\n",
      "Accuracy: 0.5738\n",
      "ROC-AUC: 0.7522\n",
      "Devtest RW Classification Report:\n",
      "Classification Report:\n",
      "{'0': {'precision': 0.5481727574750831, 'recall': 0.7692307692307693, 'f1-score': 0.6401551891367605, 'support': 429}, '1': {'precision': 0.57981220657277, 'recall': 0.5428571428571428, 'f1-score': 0.5607264472190693, 'support': 455}, '2': {'precision': 0.6101694915254238, 'recall': 0.2748091603053435, 'f1-score': 0.37894736842105264, 'support': 262}, 'accuracy': 0.5663176265270506, 'macro avg': {'precision': 0.5793848185244257, 'recall': 0.5289656907977519, 'f1-score': 0.5266096682589608, 'support': 1146}, 'weighted avg': {'precision': 0.5749084412976283, 'recall': 0.5663176265270506, 'f1-score': 0.5489016755241383, 'support': 1146}}\n",
      "Accuracy: 0.5663\n",
      "ROC-AUC: 0.7567\n"
     ]
    }
   ],
   "source": [
    "print('Train Classification Report:')\n",
    "accuracy, roc_auc, report = evaluate_naive_bayes(clf, vectorizer, text_data, labels)\n",
    "\n",
    "print('Devtest MT Classification Report:')\n",
    "accuracy_mt, roc_auc_mt, report_mt = evaluate_naive_bayes(clf, vectorizer, text_data_mt, labels_mt)\n",
    "\n",
    "print('Devtest RW Classification Report:')\n",
    "accuracy_rw, roc_auc_rw, report_rw = evaluate_naive_bayes(clf, vectorizer, text_data_rw, labels_rw)"
   ]
  },
  {
   "cell_type": "markdown",
   "metadata": {},
   "source": [
    "Okay, it includes all the results we want to see except for the ROC-AUC score. We can add that to this report so that we have all the results in one place. "
   ]
  },
  {
   "cell_type": "code",
   "execution_count": 6,
   "metadata": {},
   "outputs": [],
   "source": [
    "report['roc_auc'] = roc_auc\n",
    "report_mt['roc_auc'] = roc_auc_mt\n",
    "report_rw['roc_auc'] = roc_auc_rw"
   ]
  },
  {
   "cell_type": "markdown",
   "metadata": {},
   "source": [
    "Now, let's create a master dictionary that will have details about the model (type and hyperparameters), and the reported results from all three datasets splits."
   ]
  },
  {
   "cell_type": "code",
   "execution_count": 7,
   "metadata": {},
   "outputs": [],
   "source": [
    "result = dict()\n",
    "result['model'] = {'type': 'naive_bayes', 'alpha': alpha, 'fit_prior': fit_prior}\n",
    "result['train'] = report\n",
    "result['devtest_mt'] = report_mt\n",
    "result['devtest_rw'] = report_rw"
   ]
  },
  {
   "cell_type": "markdown",
   "metadata": {},
   "source": [
    "We get 95.3% on the training dataset but 55.6% on the mt dataset and 54.0% on the rw dataset. There is a significant difference between the performance on the training dataset and the test datasets. This could be due to overfitting, or the model is not learning the right features. We can try to improve the model by tuning the hyperparameters (epochs, le), modifying the architecture, or changing the distribution of the datasets. For the sake of this project, we will try to improve models by tuning the hyperparameters."
   ]
  },
  {
   "cell_type": "markdown",
   "metadata": {},
   "source": [
    "## Hyperparameter tuning"
   ]
  },
  {
   "cell_type": "markdown",
   "metadata": {},
   "source": [
    "Let's try to tune the hyperparameters of the model to improve the performance. We will run experiments and compare the results.\n",
    "\n",
    "We will tune the following hyperparameters:\n",
    "- alpha: Smoothing parameter\n",
    "- fit_prior: Whether to learn class prior probabilities or not"
   ]
  },
  {
   "cell_type": "code",
   "execution_count": 8,
   "metadata": {},
   "outputs": [],
   "source": [
    "# Suppress output\n",
    "import contextlib\n",
    "with contextlib.redirect_stdout(open('/dev/null', 'w')):\n",
    "\n",
    "    alpha_list = np.linspace(0.1, 2.0, num=20)\n",
    "    fit_prior_list = [True, False]\n",
    "    result_list = []\n",
    "\n",
    "    for alpha in alpha_list:\n",
    "        for fit_prior in fit_prior_list:\n",
    "            clf, vectorizer = train_naive_bayes(text_data, labels, alpha, fit_prior)\n",
    "            accuracy, roc_auc, report = evaluate_naive_bayes(clf, vectorizer, text_data, labels)\n",
    "            accuracy_mt, roc_auc_mt, report_mt = evaluate_naive_bayes(clf, vectorizer, text_data_mt, labels_mt)\n",
    "            accuracy_rw, roc_auc_rw, report_rw = evaluate_naive_bayes(clf, vectorizer, text_data_rw, labels_rw)\n",
    "            report['roc_auc'] = roc_auc\n",
    "            report_mt['roc_auc'] = roc_auc_mt\n",
    "            report_rw['roc_auc'] = roc_auc_rw\n",
    "            result = dict()\n",
    "            result['model'] = {'type': 'naive_bayes', 'alpha': alpha, 'fit_prior': fit_prior}\n",
    "            result['train'] = report\n",
    "            result['devtest_mt'] = report_mt\n",
    "            result['devtest_rw'] = report_rw\n",
    "            result_list.append(result)"
   ]
  },
  {
   "cell_type": "markdown",
   "metadata": {},
   "source": [
    "We write the results to a json file, where the structure is the following:\n",
    "    \n",
    "    ```json\n",
    "    {\n",
    "        \"model\": {\n",
    "            \"type\": [model_type],\n",
    "            \"alpha\": [alpha]\n",
    "            \"fit_prior\": [fit_prior]\n",
    "        },\n",
    "        \"train\": {\n",
    "            \"accuracy\": [train_acc],\n",
    "            \"roc_auc\": [train_roc_auc]\n",
    "            \"0\": {\n",
    "                \"precision\": [train_precision_0],\n",
    "                \"recall\": [train_recall_0],\n",
    "                \"f1\": [train_f1_0],\n",
    "                \"support\": [train_support_0]\n",
    "            },\n",
    "            \"1\": {\n",
    "                \"precision\": [train_precision_1],\n",
    "                \"recall\": [train_recall_1],\n",
    "                \"f1\": [train_f1_1],\n",
    "                \"support\": [train_support_1]\n",
    "            },\n",
    "            \"2\": {\n",
    "                \"precision\": [train_precision_2],\n",
    "                \"recall\": [train_recall_2],\n",
    "                \"f1\": [train_f1_2],\n",
    "                \"support\": [train_support_2]\n",
    "            }\n",
    "        },\n",
    "        \"devtest_mt\": {\n",
    "            \"accuracy\": [devtest_mt_acc],\n",
    "            \"roc_auc\": [devtest_mt_roc_auc]\n",
    "            \"0\": {\n",
    "                \"precision\": [devtest_mt_precision_0],\n",
    "                \"recall\": [devtest_mt_recall_0],\n",
    "                \"f1\": [devtest_mt_f1_0],\n",
    "                \"support\": [devtest_mt_support_0]\n",
    "            },\n",
    "            \"1\": {\n",
    "                \"precision\": [devtest_mt_precision_1],\n",
    "                \"recall\": [devtest_mt_recall_1],\n",
    "                \"f1\": [devtest_mt_f1_1],\n",
    "                \"support\": [devtest_mt_support_1]\n",
    "            },\n",
    "            \"2\": {\n",
    "                \"precision\": [devtest_mt_precision_2],\n",
    "                \"recall\": [devtest_mt_recall_2],\n",
    "                \"f1\": [devtest_mt_f1_2],\n",
    "                \"support\": [devtest_mt_support_2]\n",
    "            }\n",
    "        },\n",
    "        \"devtest_rw\": {\n",
    "            \"accuracy\": [devtest_rw_acc],\n",
    "            \"roc_auc\": [devtest_rw_roc_auc]\n",
    "            \"0\": {\n",
    "                \"precision\": [devtest_rw_precision_0],\n",
    "                \"recall\": [devtest_rw_recall_0],\n",
    "                \"f1\": [devtest_rw_f1_0],\n",
    "                \"support\": [devtest_rw_support_0]\n",
    "            },\n",
    "            \"1\": {\n",
    "                \"precision\": [devtest_rw_precision_1],\n",
    "                \"recall\": [devtest_rw_recall_1],\n",
    "                \"f1\": [devtest_rw_f1_1],\n",
    "                \"support\": [devtest_rw_support_1]\n",
    "            },\n",
    "            \"2\": {\n",
    "                \"precision\": [devtest_rw_precision_2],\n",
    "                \"recall\": [devtest_rw_recall_2],\n",
    "                \"f1\": [devtest_rw_f1_2],\n",
    "                \"support\": [devtest_rw_support_2]\n",
    "            }\n",
    "        }\n",
    "    }\n",
    "    ```"
   ]
  },
  {
   "cell_type": "code",
   "execution_count": null,
   "metadata": {},
   "outputs": [],
   "source": [
    "with open('naive_bayes_results.json', 'w') as f:\n",
    "    json.dump(result_list, f, indent=4)"
   ]
  }
 ],
 "metadata": {
  "kernelspec": {
   "display_name": "base",
   "language": "python",
   "name": "python3"
  },
  "language_info": {
   "codemirror_mode": {
    "name": "ipython",
    "version": 3
   },
   "file_extension": ".py",
   "mimetype": "text/x-python",
   "name": "python",
   "nbconvert_exporter": "python",
   "pygments_lexer": "ipython3",
   "version": "3.8.5"
  }
 },
 "nbformat": 4,
 "nbformat_minor": 2
}
