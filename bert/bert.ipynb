{
 "cells": [
  {
   "cell_type": "markdown",
   "metadata": {},
   "source": [
    "# Bidirectional Transformers for Language Understanding (BERT)\n",
    "\n",
    "We will try a BERT transformer model on our data here."
   ]
  },
  {
   "cell_type": "code",
   "execution_count": null,
   "metadata": {},
   "outputs": [],
   "source": [
    "%pip install transformers\n",
    "import json\n",
    "import torch\n",
    "from bert import load_data, train_distilbert, evaluate_distilbert"
   ]
  },
  {
   "cell_type": "code",
   "execution_count": null,
   "metadata": {},
   "outputs": [],
   "source": [
    "with open('../data/NewsMTSC-dataset/train_preprocessed.jsonl', 'r') as f:\n",
    "    train_data = [json.loads(line) for line in f]\n",
    "\n",
    "with open('../data/NewsMTSC-dataset/devtest_mt_preprocessed.jsonl', 'r') as f:\n",
    "    devtest_mt_data = [json.loads(line) for line in f]\n",
    "\n",
    "with open('../data/NewsMTSC-dataset/devtest_rw_preprocessed.jsonl', 'r') as f:\n",
    "    devtest_rw_data = [json.loads(line) for line in f]\n",
    "\n",
    "print('train_data:', len(train_data))\n",
    "print('devtest_mt_data:', len(devtest_mt_data))\n",
    "print('devtest_rw_data:', len(devtest_rw_data))\n",
    "\n",
    "print('train_data[0]:', train_data[0])\n",
    "print('devtest_mt_data[0]:', devtest_mt_data[0])\n",
    "print('devtest_rw_data[0]:', devtest_rw_data[0])"
   ]
  },
  {
   "cell_type": "code",
   "execution_count": 3,
   "metadata": {},
   "outputs": [],
   "source": [
    "text_data, labels = load_data(train_data)\n",
    "text_data_mt, labels_mt = load_data(devtest_mt_data)\n",
    "text_data_rw, labels_rw = load_data(devtest_rw_data)"
   ]
  },
  {
   "cell_type": "code",
   "execution_count": null,
   "metadata": {},
   "outputs": [],
   "source": [
    "model, sentiment_classifier, device = train_distilbert(text_data, labels)\n",
    "\n"
   ]
  },
  {
   "cell_type": "code",
   "execution_count": null,
   "metadata": {},
   "outputs": [],
   "source": [
    "print(\"Train data classification report:\")\n",
    "accuracy, roc_auc, report = evaluate_distilbert(model, sentiment_classifier, text_data, labels)\n",
    "\n",
    "print(\"Devtest MT data classification report:\")\n",
    "accuracy, roc_auc, report = evaluate_distilbert(model, sentiment_classifier, text_data_mt, labels_mt)\n",
    "\n",
    "print(\"Devtest RW data classification report:\")\n",
    "accuracy, roc_auc, report = evaluate_distilbert(model, sentiment_classifier, text_data_rw, labels_rw)"
   ]
  },
  {
   "cell_type": "code",
   "execution_count": null,
   "metadata": {},
   "outputs": [],
   "source": []
  }
 ],
 "metadata": {
  "kernelspec": {
   "display_name": "base",
   "language": "python",
   "name": "python3"
  },
  "language_info": {
   "codemirror_mode": {
    "name": "ipython",
    "version": 3
   },
   "file_extension": ".py",
   "mimetype": "text/x-python",
   "name": "python",
   "nbconvert_exporter": "python",
   "pygments_lexer": "ipython3",
   "version": "3.10.12"
  }
 },
 "nbformat": 4,
 "nbformat_minor": 2
}
