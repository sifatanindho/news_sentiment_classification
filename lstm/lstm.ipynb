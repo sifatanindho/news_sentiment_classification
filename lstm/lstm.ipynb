{
 "cells": [
  {
   "cell_type": "markdown",
   "metadata": {},
   "source": [
    "# Long-Short Term Memory (LSTM) Networks"
   ]
  },
  {
   "cell_type": "markdown",
   "metadata": {},
   "source": [
    "Let's try a Long-Short Term Memory (LSTM) network on our data."
   ]
  },
  {
   "cell_type": "markdown",
   "metadata": {},
   "source": [
    "## Initial model"
   ]
  },
  {
   "cell_type": "markdown",
   "metadata": {},
   "source": [
    "We import the necessary libraries and load the data."
   ]
  },
  {
   "cell_type": "code",
   "execution_count": 1,
   "metadata": {},
   "outputs": [],
   "source": [
    "import json\n",
    "import numpy as np\n",
    "from lstm import load_data, train_lstm, evaluate_lstm\n",
    "import pandas as pd\n",
    "import matplotlib.pyplot as plt"
   ]
  },
  {
   "cell_type": "markdown",
   "metadata": {},
   "source": [
    "Then, we load the data."
   ]
  },
  {
   "cell_type": "code",
   "execution_count": 2,
   "metadata": {},
   "outputs": [
    {
     "name": "stdout",
     "output_type": "stream",
     "text": [
      "train_data: 8739\n",
      "devtest_mt_data: 1476\n",
      "devtest_rw_data: 1146\n",
      "train_data[0]: {'gid': 'allsides_1000_401_25_Reality Leigh Winner_0_6', 'sentence_normalized': 'Winner wrote 30minute private meeting Republican lawmakers state policy director', 'polarity': 4.0}\n",
      "devtest_mt_data[0]: {'gid': 'allsides_1002_402_12_former FBI director James B. Comey_51_56', 'sentence_normalized': 'While White House officials said days Comeys dismissal largely result memo written Deputy Attorney General Rod J Rosenstein criticizing FBI directors handling investigation Hillary Clintons use private email server secretary state Trump suggested NBC interview Russian investigation played role decision', 'polarity': 2.0}\n",
      "devtest_rw_data[0]: {'gid': 'allsides_703_283_55_Mr. Trump_124_133', 'sentence_normalized': 'A group congressional Democrats said Wednesday ask Congress take rare step officially censuring Mr Trump', 'polarity': 2.0}\n"
     ]
    }
   ],
   "source": [
    "with open('../data/NewsMTSC-dataset/train_preprocessed.jsonl', 'r') as f:\n",
    "    train_data = [json.loads(line) for line in f]\n",
    "\n",
    "with open('../data/NewsMTSC-dataset/devtest_mt_preprocessed.jsonl', 'r') as f:\n",
    "    devtest_mt_data = [json.loads(line) for line in f]\n",
    "\n",
    "with open('../data/NewsMTSC-dataset/devtest_rw_preprocessed.jsonl', 'r') as f:\n",
    "    devtest_rw_data = [json.loads(line) for line in f]\n",
    "\n",
    "print('train_data:', len(train_data))\n",
    "print('devtest_mt_data:', len(devtest_mt_data))\n",
    "print('devtest_rw_data:', len(devtest_rw_data))\n",
    "\n",
    "print('train_data[0]:', train_data[0])\n",
    "print('devtest_mt_data[0]:', devtest_mt_data[0])\n",
    "print('devtest_rw_data[0]:', devtest_rw_data[0])"
   ]
  },
  {
   "cell_type": "code",
   "execution_count": 3,
   "metadata": {},
   "outputs": [],
   "source": [
    "text_data, labels = load_data(train_data)\n",
    "text_data_mt, labels_mt = load_data(devtest_mt_data)\n",
    "text_data_rw, labels_rw = load_data(devtest_rw_data)"
   ]
  },
  {
   "cell_type": "markdown",
   "metadata": {},
   "source": [
    "Then we train a baseline model. "
   ]
  },
  {
   "cell_type": "code",
   "execution_count": 4,
   "metadata": {},
   "outputs": [
    {
     "name": "stdout",
     "output_type": "stream",
     "text": [
      "Device: cuda\n",
      "Epoch 1, Loss: 1.0916058308016645\n",
      "Epoch 2, Loss: 1.0836162649802048\n",
      "Epoch 3, Loss: 1.0735021768695248\n",
      "Epoch 4, Loss: 1.0579240537472885\n",
      "Epoch 5, Loss: 1.0318483836459418\n",
      "Epoch 6, Loss: 0.9925805397712402\n",
      "Epoch 7, Loss: 0.939464314575613\n",
      "Epoch 8, Loss: 0.8763525949342408\n",
      "Epoch 9, Loss: 0.8092630999366732\n",
      "Epoch 10, Loss: 0.7414121273225242\n",
      "Epoch 11, Loss: 0.6786362485293924\n",
      "Epoch 12, Loss: 0.6191910063698344\n",
      "Epoch 13, Loss: 0.5651241228745801\n",
      "Epoch 14, Loss: 0.5177273822091791\n",
      "Epoch 15, Loss: 0.4764999788607994\n",
      "Epoch 16, Loss: 0.4368342412159826\n",
      "Epoch 17, Loss: 0.4034240991420989\n",
      "Epoch 18, Loss: 0.3737852775158673\n",
      "Epoch 19, Loss: 0.34606027282284996\n",
      "Epoch 20, Loss: 0.3224794636242581\n"
     ]
    },
    {
     "data": {
      "image/png": "[encoded data removed]",
      "text/plain": [
       "<Figure size 432x288 with 1 Axes>"
      ]
     },
     "metadata": {
      "needs_background": "light"
     },
     "output_type": "display_data"
    }
   ],
   "source": [
    "epochs = 20\n",
    "hidden_dim = 128\n",
    "num_layers = 3\n",
    "learning_rate = 0.0001\n",
    "model, vectorizer = train_lstm(text_data, labels, epochs, hidden_dim, num_layers, learning_rate)"
   ]
  },
  {
   "cell_type": "markdown",
   "metadata": {},
   "source": [
    "Finally, we evaluate the model on the test datasets."
   ]
  },
  {
   "cell_type": "code",
   "execution_count": 5,
   "metadata": {},
   "outputs": [
    {
     "name": "stdout",
     "output_type": "stream",
     "text": [
      "Train data classification report:\n"
     ]
    },
    {
     "name": "stdout",
     "output_type": "stream",
     "text": [
      "Classification Report:\n",
      "{'0': {'precision': 0.9170383586083853, 'recall': 0.9300361881785284, 'f1-score': 0.9234915406497979, 'support': 3316}, '1': {'precision': 0.9140040788579198, 'recall': 0.8880449141347424, 'f1-score': 0.9008375209380235, 'support': 3028}, '2': {'precision': 0.9170090386195563, 'recall': 0.9319415448851774, 'f1-score': 0.9244149927521226, 'support': 2395}, 'accuracy': 0.9160086966472136, 'macro avg': {'precision': 0.9160171586952871, 'recall': 0.916674215732816, 'f1-score': 0.9162480181133147, 'support': 8739}, 'weighted avg': {'precision': 0.9159789673213209, 'recall': 0.9160086966472136, 'f1-score': 0.9158951676205971, 'support': 8739}}\n",
      "Accuracy: 0.9160\n",
      "ROC-AUC: 0.9865\n",
      "Devtest MT data classification report:\n",
      "Classification Report:\n",
      "{'0': {'precision': 0.5688405797101449, 'recall': 0.6514522821576764, 'f1-score': 0.6073500967117988, 'support': 482}, '1': {'precision': 0.6927536231884058, 'recall': 0.6390374331550802, 'f1-score': 0.6648122392211404, 'support': 748}, '2': {'precision': 0.44017094017094016, 'recall': 0.4186991869918699, 'f1-score': 0.42916666666666664, 'support': 246}, 'accuracy': 0.6063685636856369, 'macro avg': {'precision': 0.5672550476898303, 'recall': 0.5697296341015422, 'f1-score': 0.567109667533202, 'support': 1476}, 'weighted avg': {'precision': 0.6101916807908324, 'recall': 0.6063685636856369, 'f1-score': 0.6067732395342141, 'support': 1476}}\n",
      "Accuracy: 0.6064\n",
      "ROC-AUC: 0.7580\n",
      "Devtest RW data classification report:\n",
      "Classification Report:\n",
      "{'0': {'precision': 0.6469194312796208, 'recall': 0.6363636363636364, 'f1-score': 0.6415981198589894, 'support': 429}, '1': {'precision': 0.5643564356435643, 'recall': 0.6263736263736264, 'f1-score': 0.5937499999999999, 'support': 455}, '2': {'precision': 0.502283105022831, 'recall': 0.4198473282442748, 'f1-score': 0.45738045738045735, 'support': 262}, 'accuracy': 0.5828970331588132, 'macro avg': {'precision': 0.5711863239820053, 'recall': 0.5608615303271791, 'f1-score': 0.5642428590798155, 'support': 1146}, 'weighted avg': {'precision': 0.5810722406219554, 'recall': 0.5828970331588132, 'f1-score': 0.5804847497846302, 'support': 1146}}\n",
      "Accuracy: 0.5829\n",
      "ROC-AUC: 0.7602\n"
     ]
    }
   ],
   "source": [
    "print(\"Train data classification report:\")\n",
    "accuracy, roc_auc, report = evaluate_lstm(model, vectorizer, text_data, labels)\n",
    "\n",
    "print(\"Devtest MT data classification report:\")\n",
    "accuracy_mt, roc_auc_mt, report_mt = evaluate_lstm(model, vectorizer, text_data_mt, labels_mt)\n",
    "\n",
    "print(\"Devtest RW data classification report:\")\n",
    "accuracy_rw, roc_auc_rw, report_rw = evaluate_lstm(model, vectorizer, text_data_rw, labels_rw)"
   ]
  },
  {
   "cell_type": "markdown",
   "metadata": {},
   "source": [
    "Let's what the report looks like."
   ]
  },
  {
   "cell_type": "code",
   "execution_count": 6,
   "metadata": {},
   "outputs": [
    {
     "data": {
      "text/plain": [
       "{'0': {'precision': 0.6469194312796208,\n",
       "  'recall': 0.6363636363636364,\n",
       "  'f1-score': 0.6415981198589894,\n",
       "  'support': 429},\n",
       " '1': {'precision': 0.5643564356435643,\n",
       "  'recall': 0.6263736263736264,\n",
       "  'f1-score': 0.5937499999999999,\n",
       "  'support': 455},\n",
       " '2': {'precision': 0.502283105022831,\n",
       "  'recall': 0.4198473282442748,\n",
       "  'f1-score': 0.45738045738045735,\n",
       "  'support': 262},\n",
       " 'accuracy': 0.5828970331588132,\n",
       " 'macro avg': {'precision': 0.5711863239820053,\n",
       "  'recall': 0.5608615303271791,\n",
       "  'f1-score': 0.5642428590798155,\n",
       "  'support': 1146},\n",
       " 'weighted avg': {'precision': 0.5810722406219554,\n",
       "  'recall': 0.5828970331588132,\n",
       "  'f1-score': 0.5804847497846302,\n",
       "  'support': 1146}}"
      ]
     },
     "execution_count": 6,
     "metadata": {},
     "output_type": "execute_result"
    }
   ],
   "source": [
    "report_rw"
   ]
  },
  {
   "cell_type": "markdown",
   "metadata": {},
   "source": [
    "Okay, it includes all the results we want to see except for the ROC-AUC score. We can add that to this report so that we have all the results in one place. "
   ]
  },
  {
   "cell_type": "code",
   "execution_count": 7,
   "metadata": {},
   "outputs": [],
   "source": [
    "report['roc_auc'] = roc_auc\n",
    "report_mt['roc_auc'] = roc_auc_mt\n",
    "report_rw['roc_auc'] = roc_auc_rw"
   ]
  },
  {
   "cell_type": "markdown",
   "metadata": {},
   "source": [
    "Now, let's create a master dictionary that will have details about the model (type and hyperparameters), and the reported results from all three datasets splits."
   ]
  },
  {
   "cell_type": "code",
   "execution_count": 8,
   "metadata": {},
   "outputs": [
    {
     "data": {
      "text/plain": [
       "{'model': {'type': 'LSTM',\n",
       "  'epochs': 20,\n",
       "  'hidden_dim': 128,\n",
       "  'num_layers': 3,\n",
       "  'learning_rate': 0.0001},\n",
       " 'train': {'0': {'precision': 0.9170383586083853,\n",
       "   'recall': 0.9300361881785284,\n",
       "   'f1-score': 0.9234915406497979,\n",
       "   'support': 3316},\n",
       "  '1': {'precision': 0.9140040788579198,\n",
       "   'recall': 0.8880449141347424,\n",
       "   'f1-score': 0.9008375209380235,\n",
       "   'support': 3028},\n",
       "  '2': {'precision': 0.9170090386195563,\n",
       "   'recall': 0.9319415448851774,\n",
       "   'f1-score': 0.9244149927521226,\n",
       "   'support': 2395},\n",
       "  'accuracy': 0.9160086966472136,\n",
       "  'macro avg': {'precision': 0.9160171586952871,\n",
       "   'recall': 0.916674215732816,\n",
       "   'f1-score': 0.9162480181133147,\n",
       "   'support': 8739},\n",
       "  'weighted avg': {'precision': 0.9159789673213209,\n",
       "   'recall': 0.9160086966472136,\n",
       "   'f1-score': 0.9158951676205971,\n",
       "   'support': 8739},\n",
       "  'roc_auc': 0.9865228688576329},\n",
       " 'devtest_mt': {'0': {'precision': 0.5688405797101449,\n",
       "   'recall': 0.6514522821576764,\n",
       "   'f1-score': 0.6073500967117988,\n",
       "   'support': 482},\n",
       "  '1': {'precision': 0.6927536231884058,\n",
       "   'recall': 0.6390374331550802,\n",
       "   'f1-score': 0.6648122392211404,\n",
       "   'support': 748},\n",
       "  '2': {'precision': 0.44017094017094016,\n",
       "   'recall': 0.4186991869918699,\n",
       "   'f1-score': 0.42916666666666664,\n",
       "   'support': 246},\n",
       "  'accuracy': 0.6063685636856369,\n",
       "  'macro avg': {'precision': 0.5672550476898303,\n",
       "   'recall': 0.5697296341015422,\n",
       "   'f1-score': 0.567109667533202,\n",
       "   'support': 1476},\n",
       "  'weighted avg': {'precision': 0.6101916807908324,\n",
       "   'recall': 0.6063685636856369,\n",
       "   'f1-score': 0.6067732395342141,\n",
       "   'support': 1476},\n",
       "  'roc_auc': 0.7579850168908097},\n",
       " 'devtest_rw': {'0': {'precision': 0.6469194312796208,\n",
       "   'recall': 0.6363636363636364,\n",
       "   'f1-score': 0.6415981198589894,\n",
       "   'support': 429},\n",
       "  '1': {'precision': 0.5643564356435643,\n",
       "   'recall': 0.6263736263736264,\n",
       "   'f1-score': 0.5937499999999999,\n",
       "   'support': 455},\n",
       "  '2': {'precision': 0.502283105022831,\n",
       "   'recall': 0.4198473282442748,\n",
       "   'f1-score': 0.45738045738045735,\n",
       "   'support': 262},\n",
       "  'accuracy': 0.5828970331588132,\n",
       "  'macro avg': {'precision': 0.5711863239820053,\n",
       "   'recall': 0.5608615303271791,\n",
       "   'f1-score': 0.5642428590798155,\n",
       "   'support': 1146},\n",
       "  'weighted avg': {'precision': 0.5810722406219554,\n",
       "   'recall': 0.5828970331588132,\n",
       "   'f1-score': 0.5804847497846302,\n",
       "   'support': 1146},\n",
       "  'roc_auc': 0.7602384708308135}}"
      ]
     },
     "execution_count": 8,
     "metadata": {},
     "output_type": "execute_result"
    }
   ],
   "source": [
    "result = dict()\n",
    "result['model'] = {'type': 'LSTM', 'epochs': epochs, 'hidden_dim': hidden_dim, 'num_layers': num_layers, 'learning_rate': learning_rate}\n",
    "result['train'] = report\n",
    "result['devtest_mt'] = report_mt\n",
    "result['devtest_rw'] = report_rw\n",
    "result"
   ]
  },
  {
   "cell_type": "markdown",
   "metadata": {},
   "source": [
    "We get 91.6% on the training dataset but 61.0% on the mt dataset and 58.7% on the rw dataset. There is a significant difference between the performance on the training dataset and the test datasets. This could be due to overfitting, or the model is not learning the right features. We can try to improve the model by tuning the hyperparameters (epochs, le), modifying the architecture, or changing the distribution of the datasets. For the sake of this project, we will try to improve models by tuning the hyperparameters."
   ]
  },
  {
   "cell_type": "markdown",
   "metadata": {},
   "source": [
    "## Hyperparameter tuning"
   ]
  },
  {
   "cell_type": "markdown",
   "metadata": {},
   "source": [
    "Let's try to tune the hyperparameters of the model to improve the performance. We will run experiments and compare the results.\n",
    "\n",
    "We will tune the following hyperparameters:\n",
    "- Number of epochs\n",
    "- Learning rate\n",
    "- Hidden units\n",
    "- Number of layers"
   ]
  },
  {
   "cell_type": "code",
   "execution_count": 9,
   "metadata": {},
   "outputs": [
    {
     "data": {
      "image/png": "[encoded data removed]",
      "text/plain": [
       "<Figure size 432x288 with 1 Axes>"
      ]
     },
     "metadata": {
      "needs_background": "light"
     },
     "output_type": "display_data"
    }
   ],
   "source": [
    "# Suppress output\n",
    "import contextlib\n",
    "import matplotlib\n",
    "matplotlib.use('Agg')\n",
    "with contextlib.redirect_stdout(open('/dev/null', 'w')):\n",
    "\n",
    "    epochs_list = [20, 30]\n",
    "    hidden_dim_list = [64, 128]\n",
    "    num_layers_list = [3, 4]\n",
    "    learning_rate_list = [0.0001, 0.001, 0.01]\n",
    "\n",
    "    result_list = []\n",
    "\n",
    "    for epochs in epochs_list:\n",
    "        for hidden_dim in hidden_dim_list:\n",
    "            for num_layers in num_layers_list:\n",
    "                for learning_rate in learning_rate_list:\n",
    "                    model, vectorizer = train_lstm(text_data, labels, epochs, hidden_dim, num_layers, learning_rate)\n",
    "                    accuracy, roc_auc, report = evaluate_lstm(model, vectorizer, text_data, labels)\n",
    "                    accuracy_mt, roc_auc_mt, report_mt = evaluate_lstm(model, vectorizer, text_data_mt, labels_mt)\n",
    "                    accuracy_rw, roc_auc_rw, report_rw = evaluate_lstm(model, vectorizer, text_data_rw, labels_rw)\n",
    "                    report['roc_auc'] = roc_auc\n",
    "                    report_mt['roc_auc'] = roc_auc_mt\n",
    "                    report_rw['roc_auc'] = roc_auc_rw\n",
    "                    result = dict()\n",
    "                    result['model'] = {'type': 'LSTM', 'epochs': epochs, 'hidden_dim': hidden_dim, 'num_layers': num_layers, 'learning_rate': learning_rate}\n",
    "                    result['train'] = report\n",
    "                    result['devtest_mt'] = report_mt\n",
    "                    result['devtest_rw'] = report_rw\n",
    "                    result_list.append(result)\n",
    "\n"
   ]
  },
  {
   "cell_type": "markdown",
   "metadata": {},
   "source": [
    "We will write the results of the experiments in a json file, where each entry looks like the following:\n",
    "    \n",
    "    ```json\n",
    "    {\n",
    "        \"model\": {\n",
    "            \"type\": [model_type],\n",
    "            \"hidden_dim\": [hidden_dim],\n",
    "            \"num_layers\": [n_layers],\n",
    "            \"learning_rate\": [lr],\n",
    "        },\n",
    "        \"train\": {\n",
    "            \"accuracy\": [train_acc],\n",
    "            \"roc_auc\": [train_roc_auc]\n",
    "            \"0\": {\n",
    "                \"precision\": [train_precision_0],\n",
    "                \"recall\": [train_recall_0],\n",
    "                \"f1\": [train_f1_0],\n",
    "                \"support\": [train_support_0]\n",
    "            },\n",
    "            \"1\": {\n",
    "                \"precision\": [train_precision_1],\n",
    "                \"recall\": [train_recall_1],\n",
    "                \"f1\": [train_f1_1],\n",
    "                \"support\": [train_support_1]\n",
    "            },\n",
    "            \"2\": {\n",
    "                \"precision\": [train_precision_2],\n",
    "                \"recall\": [train_recall_2],\n",
    "                \"f1\": [train_f1_2],\n",
    "                \"support\": [train_support_2]\n",
    "            }\n",
    "        },\n",
    "        \"devtest_mt\": {\n",
    "            \"accuracy\": [devtest_mt_acc],\n",
    "            \"roc_auc\": [devtest_mt_roc_auc]\n",
    "            \"0\": {\n",
    "                \"precision\": [devtest_mt_precision_0],\n",
    "                \"recall\": [devtest_mt_recall_0],\n",
    "                \"f1\": [devtest_mt_f1_0],\n",
    "                \"support\": [devtest_mt_support_0]\n",
    "            },\n",
    "            \"1\": {\n",
    "                \"precision\": [devtest_mt_precision_1],\n",
    "                \"recall\": [devtest_mt_recall_1],\n",
    "                \"f1\": [devtest_mt_f1_1],\n",
    "                \"support\": [devtest_mt_support_1]\n",
    "            },\n",
    "            \"2\": {\n",
    "                \"precision\": [devtest_mt_precision_2],\n",
    "                \"recall\": [devtest_mt_recall_2],\n",
    "                \"f1\": [devtest_mt_f1_2],\n",
    "                \"support\": [devtest_mt_support_2]\n",
    "            }\n",
    "        },\n",
    "        \"devtest_rw\": {\n",
    "            \"accuracy\": [devtest_rw_acc],\n",
    "            \"roc_auc\": [devtest_rw_roc_auc]\n",
    "            \"0\": {\n",
    "                \"precision\": [devtest_rw_precision_0],\n",
    "                \"recall\": [devtest_rw_recall_0],\n",
    "                \"f1\": [devtest_rw_f1_0],\n",
    "                \"support\": [devtest_rw_support_0]\n",
    "            },\n",
    "            \"1\": {\n",
    "                \"precision\": [devtest_rw_precision_1],\n",
    "                \"recall\": [devtest_rw_recall_1],\n",
    "                \"f1\": [devtest_rw_f1_1],\n",
    "                \"support\": [devtest_rw_support_1]\n",
    "            },\n",
    "            \"2\": {\n",
    "                \"precision\": [devtest_rw_precision_2],\n",
    "                \"recall\": [devtest_rw_recall_2],\n",
    "                \"f1\": [devtest_rw_f1_2],\n",
    "                \"support\": [devtest_rw_support_2]\n",
    "            }\n",
    "        }\n",
    "    }\n",
    "    ```"
   ]
  },
  {
   "cell_type": "code",
   "execution_count": 10,
   "metadata": {},
   "outputs": [],
   "source": [
    "with open('lstm_results.json', 'w') as f:\n",
    "    json.dump(result_list, f, indent=4)"
   ]
  }
 ],
 "metadata": {
  "kernelspec": {
   "display_name": "Python 3",
   "language": "python",
   "name": "python3"
  },
  "language_info": {
   "codemirror_mode": {
    "name": "ipython",
    "version": 3
   },
   "file_extension": ".py",
   "mimetype": "text/x-python",
   "name": "python",
   "nbconvert_exporter": "python",
   "pygments_lexer": "ipython3",
   "version": "3.8.5"
  }
 },
 "nbformat": 4,
 "nbformat_minor": 2
}
