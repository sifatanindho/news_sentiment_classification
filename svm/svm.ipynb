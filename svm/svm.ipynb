{
 "cells": [
  {
   "cell_type": "markdown",
   "metadata": {},
   "source": [
    "# Support Vector Machine (SVM)\n",
    "\n",
    "Let's try an SVM model."
   ]
  },
  {
   "cell_type": "markdown",
   "metadata": {},
   "source": [
    "First, we import the necessary libraries."
   ]
  },
  {
   "cell_type": "code",
   "execution_count": 1,
   "metadata": {},
   "outputs": [],
   "source": [
    "import json\n",
    "import numpy as np\n",
    "import pandas as pd\n",
    "from svm import load_data, train_svm, evaluate_svm"
   ]
  },
  {
   "cell_type": "markdown",
   "metadata": {},
   "source": [
    "Then we load the data."
   ]
  },
  {
   "cell_type": "code",
   "execution_count": 2,
   "metadata": {},
   "outputs": [
    {
     "name": "stdout",
     "output_type": "stream",
     "text": [
      "train_data: 8739\n",
      "devtest_mt_data: 1476\n",
      "devtest_rw_data: 1146\n",
      "train_data[0]: {'gid': 'allsides_1000_401_25_Reality Leigh Winner_0_6', 'sentence_normalized': 'Winner wrote 30minute private meeting Republican lawmakers state policy director', 'polarity': 4.0}\n",
      "devtest_mt_data[0]: {'gid': 'allsides_1002_402_12_former FBI director James B. Comey_51_56', 'sentence_normalized': 'While White House officials said days Comeys dismissal largely result memo written Deputy Attorney General Rod J Rosenstein criticizing FBI directors handling investigation Hillary Clintons use private email server secretary state Trump suggested NBC interview Russian investigation played role decision', 'polarity': 2.0}\n",
      "devtest_rw_data[0]: {'gid': 'allsides_703_283_55_Mr. Trump_124_133', 'sentence_normalized': 'A group congressional Democrats said Wednesday ask Congress take rare step officially censuring Mr Trump', 'polarity': 2.0}\n"
     ]
    }
   ],
   "source": [
    "with open('../data/NewsMTSC-dataset/train_preprocessed.jsonl', 'r') as f:\n",
    "    train_data = [json.loads(line) for line in f]\n",
    "\n",
    "with open('../data/NewsMTSC-dataset/devtest_mt_preprocessed.jsonl', 'r') as f:\n",
    "    devtest_mt_data = [json.loads(line) for line in f]\n",
    "\n",
    "with open('../data/NewsMTSC-dataset/devtest_rw_preprocessed.jsonl', 'r') as f:\n",
    "    devtest_rw_data = [json.loads(line) for line in f]\n",
    "\n",
    "print('train_data:', len(train_data))\n",
    "print('devtest_mt_data:', len(devtest_mt_data))\n",
    "print('devtest_rw_data:', len(devtest_rw_data))\n",
    "\n",
    "print('train_data[0]:', train_data[0])\n",
    "print('devtest_mt_data[0]:', devtest_mt_data[0])\n",
    "print('devtest_rw_data[0]:', devtest_rw_data[0])"
   ]
  },
  {
   "cell_type": "code",
   "execution_count": 3,
   "metadata": {},
   "outputs": [],
   "source": [
    "text_data, labels = load_data(train_data)\n",
    "text_data_mt, labels_mt = load_data(devtest_mt_data)\n",
    "text_data_rw, labels_rw = load_data(devtest_rw_data)"
   ]
  },
  {
   "cell_type": "markdown",
   "metadata": {},
   "source": [
    "Then we train the model."
   ]
  },
  {
   "cell_type": "code",
   "execution_count": 4,
   "metadata": {},
   "outputs": [],
   "source": [
    "C = 1.0\n",
    "gamma = 0.7\n",
    "kernel = 'rbf'\n",
    "degree = 3\n",
    "\n",
    "clf, vectorizer = train_svm(text_data, labels, C, kernel, degree, gamma)"
   ]
  },
  {
   "cell_type": "markdown",
   "metadata": {},
   "source": [
    "Finally, we evaluate the model on the test datasets."
   ]
  },
  {
   "cell_type": "code",
   "execution_count": 5,
   "metadata": {},
   "outputs": [
    {
     "name": "stdout",
     "output_type": "stream",
     "text": [
      "Training data:\n",
      "Classification Report:\n",
      "{'0': {'precision': 0.5462328767123288, 'recall': 0.6618257261410788, 'f1-score': 0.5984990619136961, 'support': 482}, '1': {'precision': 0.6680216802168022, 'recall': 0.6590909090909091, 'f1-score': 0.6635262449528937, 'support': 748}, '2': {'precision': 0.487012987012987, 'recall': 0.3048780487804878, 'f1-score': 0.37500000000000006, 'support': 246}, 'accuracy': 0.6009485094850948, 'macro avg': {'precision': 0.5670891813140394, 'recall': 0.5419315613374919, 'f1-score': 0.5456751022888633, 'support': 1476}, 'weighted avg': {'precision': 0.5980824242430253, 'recall': 0.6009485094850948, 'f1-score': 0.5942033733517385, 'support': 1476}}\n",
      "Accuracy: 0.6009\n",
      "ROC-AUC: 0.7526\n",
      "MT devtest data:\n",
      "Classification Report:\n",
      "{'0': {'precision': 0.5462328767123288, 'recall': 0.6618257261410788, 'f1-score': 0.5984990619136961, 'support': 482}, '1': {'precision': 0.6680216802168022, 'recall': 0.6590909090909091, 'f1-score': 0.6635262449528937, 'support': 748}, '2': {'precision': 0.487012987012987, 'recall': 0.3048780487804878, 'f1-score': 0.37500000000000006, 'support': 246}, 'accuracy': 0.6009485094850948, 'macro avg': {'precision': 0.5670891813140394, 'recall': 0.5419315613374919, 'f1-score': 0.5456751022888633, 'support': 1476}, 'weighted avg': {'precision': 0.5980824242430253, 'recall': 0.6009485094850948, 'f1-score': 0.5942033733517385, 'support': 1476}}\n",
      "Accuracy: 0.6009\n",
      "ROC-AUC: 0.7526\n",
      "RW devtest data:\n",
      "Classification Report:\n",
      "{'0': {'precision': 0.6116071428571429, 'recall': 0.6386946386946387, 'f1-score': 0.6248574686431015, 'support': 429}, '1': {'precision': 0.5709219858156028, 'recall': 0.7076923076923077, 'f1-score': 0.6319921491658489, 'support': 455}, '2': {'precision': 0.5522388059701493, 'recall': 0.2824427480916031, 'f1-score': 0.3737373737373738, 'support': 262}, 'accuracy': 0.5846422338568935, 'macro avg': {'precision': 0.5782559782142983, 'recall': 0.5429432314928498, 'f1-score': 0.5435289971821081, 'support': 1146}, 'weighted avg': {'precision': 0.5818809205898715, 'recall': 0.5846422338568935, 'f1-score': 0.5702787729821498, 'support': 1146}}\n",
      "Accuracy: 0.5846\n",
      "ROC-AUC: 0.7713\n"
     ]
    }
   ],
   "source": [
    "print('Training data:')\n",
    "accuracy, roc_auc, report = evaluate_svm(clf, vectorizer, text_data_mt, labels_mt)\n",
    "print('MT devtest data:')\n",
    "accuracy_mt, roc_auc_mt, report_mt = evaluate_svm(clf, vectorizer, text_data_mt, labels_mt)\n",
    "print('RW devtest data:')\n",
    "accuracy_rw, roc_auc_rw, report_rw = evaluate_svm(clf, vectorizer, text_data_rw, labels_rw)"
   ]
  },
  {
   "cell_type": "markdown",
   "metadata": {},
   "source": [
    "Let's what the report looks like."
   ]
  },
  {
   "cell_type": "code",
   "execution_count": 6,
   "metadata": {},
   "outputs": [
    {
     "data": {
      "text/plain": [
       "{'0': {'precision': 0.6116071428571429,\n",
       "  'recall': 0.6386946386946387,\n",
       "  'f1-score': 0.6248574686431015,\n",
       "  'support': 429},\n",
       " '1': {'precision': 0.5709219858156028,\n",
       "  'recall': 0.7076923076923077,\n",
       "  'f1-score': 0.6319921491658489,\n",
       "  'support': 455},\n",
       " '2': {'precision': 0.5522388059701493,\n",
       "  'recall': 0.2824427480916031,\n",
       "  'f1-score': 0.3737373737373738,\n",
       "  'support': 262},\n",
       " 'accuracy': 0.5846422338568935,\n",
       " 'macro avg': {'precision': 0.5782559782142983,\n",
       "  'recall': 0.5429432314928498,\n",
       "  'f1-score': 0.5435289971821081,\n",
       "  'support': 1146},\n",
       " 'weighted avg': {'precision': 0.5818809205898715,\n",
       "  'recall': 0.5846422338568935,\n",
       "  'f1-score': 0.5702787729821498,\n",
       "  'support': 1146}}"
      ]
     },
     "execution_count": 6,
     "metadata": {},
     "output_type": "execute_result"
    }
   ],
   "source": [
    "report_rw"
   ]
  },
  {
   "cell_type": "markdown",
   "metadata": {},
   "source": [
    "Okay, it includes all the results we want to see except for the ROC-AUC score. We can add that to this report so that we have all the results in one place. "
   ]
  },
  {
   "cell_type": "code",
   "execution_count": 7,
   "metadata": {},
   "outputs": [],
   "source": [
    "report['roc_auc'] = roc_auc\n",
    "report_mt['roc_auc'] = roc_auc_mt\n",
    "report_rw['roc_auc'] = roc_auc_rw"
   ]
  },
  {
   "cell_type": "markdown",
   "metadata": {},
   "source": [
    "Now, let's create a master dictionary that will have details about the model (type and hyperparameters), and the reported results from all three datasets splits."
   ]
  },
  {
   "cell_type": "code",
   "execution_count": 8,
   "metadata": {},
   "outputs": [],
   "source": [
    "result = dict()\n",
    "result['model'] = {'type': 'svm', 'C': C, 'kernel': kernel, 'degree': degree, 'gamma': gamma}\n",
    "result['train'] = report\n",
    "result['devtest_mt'] = report_mt\n",
    "result['devtest_rw'] = report_rw"
   ]
  },
  {
   "cell_type": "markdown",
   "metadata": {},
   "source": [
    "We get 95.3% on the training dataset but 55.6% on the mt dataset and 54.0% on the rw dataset. There is a significant difference between the performance on the training dataset and the test datasets. This could be due to overfitting, or the model is not learning the right features. We can try to improve the model by tuning the hyperparameters (epochs, le), modifying the architecture, or changing the distribution of the datasets. For the sake of this project, we will try to improve models by tuning the hyperparameters."
   ]
  },
  {
   "cell_type": "markdown",
   "metadata": {},
   "source": [
    "## Hyperparameter tuning"
   ]
  },
  {
   "cell_type": "markdown",
   "metadata": {},
   "source": [
    "Let's try to tune the hyperparameters of the model to improve the performance. We will run experiments and compare the results.\n",
    "\n",
    "We will tune the following hyperparameters:\n",
    "- C: Regularization parameter. The strength of the regularization is inversely proportional to C. Must be strictly positive. The penalty is a squared l2 penalty.\n",
    "- kernel: Specifies the kernel type to be used in the algorithm. It must be one of 'linear', 'poly', 'rbf', 'sigmoid', 'precomputed' or a callable. If none is given, 'rbf' will be used. If a callable is given it is used to pre-compute the kernel matrix from data matrices; that matrix should be an array of shape (n_samples, n_samples).\n",
    "- degree: Degree of the polynomial kernel function ('poly'). Ignored by all other kernels.\n",
    "- gamma: Kernel coefficient for 'rbf', 'poly' and 'sigmoid'. If gamma is 'auto' then 1/n_features will be used instead."
   ]
  },
  {
   "cell_type": "code",
   "execution_count": null,
   "metadata": {},
   "outputs": [],
   "source": [
    "# Suppress output\n",
    "import contextlib\n",
    "with contextlib.redirect_stdout(open('/dev/null', 'w')):\n",
    "\n",
    "    C_list = [0.1, 1.0]\n",
    "    gamma_list = [0.1, 0.7, 1.0]\n",
    "    kernel_list = ['linear', 'poly', 'rbf', 'sigmoid']\n",
    "    degree_list = [2, 3]\n",
    "\n",
    "    results = []\n",
    "\n",
    "    for C in C_list:\n",
    "        for gamma in gamma_list:\n",
    "            for kernel in kernel_list:\n",
    "                for degree in degree_list:\n",
    "                    clf, vectorizer = train_svm(text_data, labels, C, kernel, degree, gamma)\n",
    "                    accuracy, roc_auc, report = evaluate_svm(clf, vectorizer, text_data_mt, labels_mt)\n",
    "                    accuracy_mt, roc_auc_mt, report_mt = evaluate_svm(clf, vectorizer, text_data_mt, labels_mt)\n",
    "                    accuracy_rw, roc_auc_rw, report_rw = evaluate_svm(clf, vectorizer, text_data_rw, labels_rw)\n",
    "                    report['roc_auc'] = roc_auc\n",
    "                    report_mt['roc_auc'] = roc_auc_mt\n",
    "                    report_rw['roc_auc'] = roc_auc_rw\n",
    "                    result = dict()\n",
    "                    result['model'] = {'type': 'svm', 'C': C, 'kernel': kernel, 'degree': degree, 'gamma': gamma}\n",
    "                    result['train'] = report\n",
    "                    result['devtest_mt'] = report_mt\n",
    "                    result['devtest_rw'] = report_rw\n",
    "                    results.append(result)"
   ]
  },
  {
   "cell_type": "markdown",
   "metadata": {},
   "source": [
    "We will write the results of the experiments in a json file, where each entry looks like the following:\n",
    "    \n",
    "    ```json\n",
    "    {\n",
    "        \"model\": {\n",
    "            \"type\": [model_type],\n",
    "            \"C\": [C],\n",
    "            \"kernel\": [kernel],\n",
    "            \"degree\": [degree],\n",
    "            \"gamma\": [gamma]\n",
    "        },\n",
    "        \"train\": {\n",
    "            \"accuracy\": [train_acc],\n",
    "            \"roc_auc\": [train_roc_auc]\n",
    "            \"0\": {\n",
    "                \"precision\": [train_precision_0],\n",
    "                \"recall\": [train_recall_0],\n",
    "                \"f1\": [train_f1_0],\n",
    "                \"support\": [train_support_0]\n",
    "            },\n",
    "            \"1\": {\n",
    "                \"precision\": [train_precision_1],\n",
    "                \"recall\": [train_recall_1],\n",
    "                \"f1\": [train_f1_1],\n",
    "                \"support\": [train_support_1]\n",
    "            },\n",
    "            \"2\": {\n",
    "                \"precision\": [train_precision_2],\n",
    "                \"recall\": [train_recall_2],\n",
    "                \"f1\": [train_f1_2],\n",
    "                \"support\": [train_support_2]\n",
    "            }\n",
    "        },\n",
    "        \"devtest_mt\": {\n",
    "            \"accuracy\": [devtest_mt_acc],\n",
    "            \"roc_auc\": [devtest_mt_roc_auc]\n",
    "            \"0\": {\n",
    "                \"precision\": [devtest_mt_precision_0],\n",
    "                \"recall\": [devtest_mt_recall_0],\n",
    "                \"f1\": [devtest_mt_f1_0],\n",
    "                \"support\": [devtest_mt_support_0]\n",
    "            },\n",
    "            \"1\": {\n",
    "                \"precision\": [devtest_mt_precision_1],\n",
    "                \"recall\": [devtest_mt_recall_1],\n",
    "                \"f1\": [devtest_mt_f1_1],\n",
    "                \"support\": [devtest_mt_support_1]\n",
    "            },\n",
    "            \"2\": {\n",
    "                \"precision\": [devtest_mt_precision_2],\n",
    "                \"recall\": [devtest_mt_recall_2],\n",
    "                \"f1\": [devtest_mt_f1_2],\n",
    "                \"support\": [devtest_mt_support_2]\n",
    "            }\n",
    "        },\n",
    "        \"devtest_rw\": {\n",
    "            \"accuracy\": [devtest_rw_acc],\n",
    "            \"roc_auc\": [devtest_rw_roc_auc]\n",
    "            \"0\": {\n",
    "                \"precision\": [devtest_rw_precision_0],\n",
    "                \"recall\": [devtest_rw_recall_0],\n",
    "                \"f1\": [devtest_rw_f1_0],\n",
    "                \"support\": [devtest_rw_support_0]\n",
    "            },\n",
    "            \"1\": {\n",
    "                \"precision\": [devtest_rw_precision_1],\n",
    "                \"recall\": [devtest_rw_recall_1],\n",
    "                \"f1\": [devtest_rw_f1_1],\n",
    "                \"support\": [devtest_rw_support_1]\n",
    "            },\n",
    "            \"2\": {\n",
    "                \"precision\": [devtest_rw_precision_2],\n",
    "                \"recall\": [devtest_rw_recall_2],\n",
    "                \"f1\": [devtest_rw_f1_2],\n",
    "                \"support\": [devtest_rw_support_2]\n",
    "            }\n",
    "        }\n",
    "    }\n",
    "    ```"
   ]
  },
  {
   "cell_type": "code",
   "execution_count": null,
   "metadata": {},
   "outputs": [
    {
     "ename": "NameError",
     "evalue": "name 'json' is not defined",
     "output_type": "error",
     "traceback": [
      "\u001b[0;31m---------------------------------------------------------------------------\u001b[0m",
      "\u001b[0;31mNameError\u001b[0m                                 Traceback (most recent call last)",
      "\u001b[0;32m/tmp/ipykernel_1571013/2687665300.py\u001b[0m in \u001b[0;36m<module>\u001b[0;34m\u001b[0m\n\u001b[1;32m      1\u001b[0m \u001b[0;32mwith\u001b[0m \u001b[0mopen\u001b[0m\u001b[0;34m(\u001b[0m\u001b[0;34m'svm_results.json'\u001b[0m\u001b[0;34m,\u001b[0m \u001b[0;34m'w'\u001b[0m\u001b[0;34m)\u001b[0m \u001b[0;32mas\u001b[0m \u001b[0mf\u001b[0m\u001b[0;34m:\u001b[0m\u001b[0;34m\u001b[0m\u001b[0;34m\u001b[0m\u001b[0m\n\u001b[0;32m----> 2\u001b[0;31m     \u001b[0mjson\u001b[0m\u001b[0;34m.\u001b[0m\u001b[0mdump\u001b[0m\u001b[0;34m(\u001b[0m\u001b[0mresults\u001b[0m\u001b[0;34m,\u001b[0m \u001b[0mf\u001b[0m\u001b[0;34m,\u001b[0m \u001b[0mindent\u001b[0m\u001b[0;34m=\u001b[0m\u001b[0;36m4\u001b[0m\u001b[0;34m)\u001b[0m\u001b[0;34m\u001b[0m\u001b[0;34m\u001b[0m\u001b[0m\n\u001b[0m",
      "\u001b[0;31mNameError\u001b[0m: name 'json' is not defined"
     ]
    }
   ],
   "source": [
    "with open('svm_results.json', 'w') as f:\n",
    "    json.dump(results, f, indent=4)"
   ]
  }
 ],
 "metadata": {
  "kernelspec": {
   "display_name": "base",
   "language": "python",
   "name": "python3"
  },
  "language_info": {
   "codemirror_mode": {
    "name": "ipython",
    "version": 3
   },
   "file_extension": ".py",
   "mimetype": "text/x-python",
   "name": "python",
   "nbconvert_exporter": "python",
   "pygments_lexer": "ipython3",
   "version": "3.8.5"
  }
 },
 "nbformat": 4,
 "nbformat_minor": 2
}
